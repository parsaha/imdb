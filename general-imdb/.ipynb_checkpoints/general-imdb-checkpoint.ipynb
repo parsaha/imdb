{
 "cells": [
  {
   "cell_type": "code",
   "execution_count": 1,
   "metadata": {},
   "outputs": [],
   "source": [
    "from matplotlib import pyplot as plt\n",
    "%matplotlib inline\n",
    "import pandas as pd\n",
    "from bs4 import BeautifulSoup\n",
    "from statistics import mean\n",
    "from requests import get\n",
    "import numpy as np"
   ]
  },
  {
   "cell_type": "markdown",
   "metadata": {},
   "source": [
    "# Thoughts on what to include:\n",
    "* `getScatter`\n",
    "* `getHist`\n",
    "* `getInfo` --> things like std and interquartiles"
   ]
  },
  {
   "cell_type": "markdown",
   "metadata": {},
   "source": [
    "# What each part is for\n",
    "\n",
    "Since the data cleaning and wrangling process is unique to each `Actor`, we have to find and clean data within the initialization of the `Actor` object. \n"
   ]
  },
  {
   "cell_type": "code",
   "execution_count": 2,
   "metadata": {},
   "outputs": [],
   "source": [
    "class Actor:\n",
    "    def __init__(self, actor_link):\n",
    "        # INITIAL DATA\n",
    "        # Finding the actor's IMDb page and getting the list of movies\n",
    "        url = actor_link + '#actor'\n",
    "        response = get(url)\n",
    "        html_soup = BeautifulSoup(response.text, 'html.parser')\n",
    "        movie_containers = html_soup.find_all('div', 'filmo-category-section')\n",
    "        movie_containers = movie_containers[0]\n",
    "        \n",
    "        # YEARS\n",
    "        all_years = movie_containers.find_all('span')\n",
    "        self.year_list = []\n",
    "        # Isolating the actual years from the rest of the things in the <span> objects from the html\n",
    "        for year in all_years:\n",
    "            self.year_list.append(str(year).split('\\n')[1][1:])\n",
    "        # If there is a range of years (for a TV show), we choose the latter year since ratings are most\n",
    "        # likely reflective of the most recent iteration of the show. \n",
    "        for index, year in enumerate(self.year_list):\n",
    "            if '-' in year:\n",
    "                self.year_list[index] = year.split('-')[1]\n",
    "            '''\n",
    "            IMDb uses roman numerals to differentiate between movies of the same name that were\n",
    "            made the same year; the three lines below address that issue (assuming we don't) run\n",
    "            into any higher numerals; to address this, one can simply manually add a couple more\n",
    "            and should be fine.\n",
    "            Note that we do the higher numerals first so that we don't pick up the '/I' from a \n",
    "            '/II', for example.\n",
    "            '''\n",
    "            if '/I' in year or '/II' in year:  \n",
    "                self.year_list[index] = year.split('/II')[0]\n",
    "                self.year_list[index] = year.split('/I')[0]\n",
    "            if year == '':\n",
    "                self.year_list[index] = 0 #our NaN for missing years\n",
    "            self.year_list[index] = int(self.year_list[index])\n",
    "            \n",
    "        # TITLES\n",
    "        movie_list = movie_containers.find_all('b')\n",
    "        self.title_list = []\n",
    "        self.tag_list = []\n",
    "        for item in movie_list:\n",
    "            # We find the movie titles...\n",
    "            self.title_list.append(str(item.find('a')).split('>')[-2][:-3])\n",
    "            # ...And the IMDb tags for each title\n",
    "            self.tag_list.append(str(item.find('a')).split('/')[2])\n",
    "                        \n",
    "        # RATINGS\n",
    "        self.rating_list = []\n",
    "        # We visit each of the actors' titles' pages to find their ratings\n",
    "        for tag in self.tag_list:\n",
    "            url = 'https://www.imdb.com/title/' + tag + '/'\n",
    "            response = get(url)\n",
    "            html_soup = BeautifulSoup(response.text, 'html.parser')\n",
    "            rating_containers = html_soup.find_all('div','ratingValue')\n",
    "            if rating_containers == []:\n",
    "                self.rating_list.append(-1) # our NaN for ratings is -1\n",
    "                continue\n",
    "            rating_str = str(rating_containers[0].find_all('strong')[0])\n",
    "            rating = float(rating_str.split(' based on ')[0][-3:])\n",
    "            self.rating_list.append(rating)\n",
    "            \n",
    "        # AVERAGE        \n",
    "        self.avg = mean([rating for rating in self.rating_list if rating > -1.0])\n",
    "        \n",
    "        #List of attributes that Actor has (and their types):\n",
    "        '''\n",
    "        year_list (list [int])\n",
    "        title_list (list [str])\n",
    "        tag_list (list [str])\n",
    "        rating_list (list [float])\n",
    "        avg (float)\n",
    "        '''\n",
    "        \n",
    "    # Creates a DataFrame with the Actor's info in it\n",
    "    def makeDf(self):\n",
    "        return pd.DataFrame(list(zip(self.rating_list, self.year_list, self.title_list)), columns=['Ratings', 'Year', 'Title'])\n",
    "        \n",
    "    # graphType decides what type of graph the method will show (between scatter, bar, and plot)\n",
    "    # withMean determines whether the user wants a red horizontal line through the graph to demonstrate where the mean is\n",
    "    def getGraph(self, graphType='s', withMean=False):\n",
    "        # The two lines below ensure that we aren't including our NaN values\n",
    "        valid_years = [year for index,year in enumerate(self.year_list) if year > 1893 and self.rating_list[index] != -1.0]\n",
    "        valid_ratings = [rating for index,rating in enumerate(self.rating_list) if rating > -1.0 and self.year_list[index] != 0]\n",
    "        plt.xlabel('Year')\n",
    "        \n",
    "        if graphType not in ['scatter', 's', 'bar', 'b', 'plot', 'p']:\n",
    "            print('Valid name not chosen for parameter graphType; displaying default scatterplot.')\n",
    "            graphType='s'\n",
    "            \n",
    "        if graphType == 'scatter' or graphType == 's':\n",
    "            plt.ylabel('Rating')\n",
    "            x = valid_years\n",
    "            y = valid_ratings \n",
    "            plt.scatter(x,y)\n",
    "            \n",
    "        elif graphType == 'bar' or graphType == 'b':\n",
    "            plt.ylabel('Average Rating')\n",
    "            unique_year_list = np.unique(np.array(valid_years)) # create a list of just unique years\n",
    "            avg_rating_list = []\n",
    "            for year in unique_year_list:\n",
    "                avg_rating_list.append(mean([rating for index,rating in enumerate(valid_ratings) if valid_years[index] == year]))\n",
    "            x = unique_year_list\n",
    "            y = avg_rating_list\n",
    "            plt.bar(x,y)\n",
    "            \n",
    "        elif graphType == 'plot' or graphType == 'p':\n",
    "            plt.ylabel('Rating')\n",
    "            unique_year_list = np.unique(np.array(valid_years))\n",
    "            min_list,avg_list,max_list = [],[],[]\n",
    "            # For each year that the Actor had a role, we take the ratings for that year and find the min, mean, and max\n",
    "            for year in unique_year_list:\n",
    "                ratings_per_year = [rating for index,rating in enumerate(valid_ratings) if valid_years[index] == year]\n",
    "                min_list.append(min(ratings_per_year))\n",
    "                avg_list.append(mean(ratings_per_year))\n",
    "                max_list.append(max(ratings_per_year))\n",
    "            plt.plot(unique_year_list, min_list, color='b', marker='o', label='Min')\n",
    "            plt.plot(unique_year_list, avg_list, color='r', marker='o', label='Mean')\n",
    "            plt.plot(unique_year_list, max_list, color='g', marker='o',label='Max')\n",
    "            plt.legend()\n",
    "            \n",
    "        if withMean:\n",
    "            if graphType not in ['plot','p']:\n",
    "                plt.plot([min(x)-1, max(x)+1], [self.avg, self.avg], label='Average', c='r',ls='--')\n",
    "                plt.legend()\n",
    "            else:\n",
    "                print('Plot already has average displayed.')\n",
    "                \n",
    "        plt.tight_layout()"
   ]
  },
  {
   "cell_type": "markdown",
   "metadata": {},
   "source": [
    "The inspiration for this project, Zach Galifianakis:"
   ]
  },
  {
   "cell_type": "code",
   "execution_count": 3,
   "metadata": {},
   "outputs": [],
   "source": [
    "zach = Actor('https://www.imdb.com/name/nm0302108/?ref_=nv_sr_srsg_0')"
   ]
  },
  {
   "cell_type": "code",
   "execution_count": 4,
   "metadata": {},
   "outputs": [
    {
     "data": {
      "text/plain": [
       "6.656164383561644"
      ]
     },
     "execution_count": 4,
     "metadata": {},
     "output_type": "execute_result"
    }
   ],
   "source": [
    "zach.avg"
   ]
  },
  {
   "cell_type": "markdown",
   "metadata": {},
   "source": [
    "Now let's try it with Jerry Trainor:"
   ]
  },
  {
   "cell_type": "code",
   "execution_count": 5,
   "metadata": {},
   "outputs": [],
   "source": [
    "jerry = Actor('https://www.imdb.com/name/nm0999117/?ref_=nv_sr_srsg_0') "
   ]
  },
  {
   "cell_type": "code",
   "execution_count": 6,
   "metadata": {},
   "outputs": [
    {
     "data": {
      "text/plain": [
       "6.7379999999999995"
      ]
     },
     "execution_count": 6,
     "metadata": {},
     "output_type": "execute_result"
    }
   ],
   "source": [
    "jerry.avg"
   ]
  },
  {
   "cell_type": "markdown",
   "metadata": {},
   "source": [
    "It is at about this point that I realize [this exists](https://imdbpy.github.io/). \n",
    "\n",
    "Oh well. Too deep to give up seeing this thing through. \n",
    "Now, let's's test out all the nice features we just made."
   ]
  },
  {
   "cell_type": "code",
   "execution_count": 7,
   "metadata": {},
   "outputs": [],
   "source": [
    "bradley = Actor('https://www.imdb.com/name/nm0177896/?ref_=nv_sr_srsg_0') # Bradley Cooper"
   ]
  },
  {
   "cell_type": "code",
   "execution_count": 8,
   "metadata": {},
   "outputs": [
    {
     "data": {
      "text/plain": [
       "6.763333333333334"
      ]
     },
     "execution_count": 8,
     "metadata": {},
     "output_type": "execute_result"
    }
   ],
   "source": [
    "bradley.avg"
   ]
  },
  {
   "cell_type": "code",
   "execution_count": 9,
   "metadata": {},
   "outputs": [
    {
     "data": {
      "text/html": [
       "<div>\n",
       "<style scoped>\n",
       "    .dataframe tbody tr th:only-of-type {\n",
       "        vertical-align: middle;\n",
       "    }\n",
       "\n",
       "    .dataframe tbody tr th {\n",
       "        vertical-align: top;\n",
       "    }\n",
       "\n",
       "    .dataframe thead th {\n",
       "        text-align: right;\n",
       "    }\n",
       "</style>\n",
       "<table border=\"1\" class=\"dataframe\">\n",
       "  <thead>\n",
       "    <tr style=\"text-align: right;\">\n",
       "      <th></th>\n",
       "      <th>Ratings</th>\n",
       "      <th>Year</th>\n",
       "      <th>Title</th>\n",
       "    </tr>\n",
       "  </thead>\n",
       "  <tbody>\n",
       "    <tr>\n",
       "      <th>0</th>\n",
       "      <td>-1.0</td>\n",
       "      <td>0</td>\n",
       "      <td>Atlantic Wall</td>\n",
       "    </tr>\n",
       "    <tr>\n",
       "      <th>1</th>\n",
       "      <td>-1.0</td>\n",
       "      <td>2021</td>\n",
       "      <td>Bernstein</td>\n",
       "    </tr>\n",
       "    <tr>\n",
       "      <th>2</th>\n",
       "      <td>-1.0</td>\n",
       "      <td>2021</td>\n",
       "      <td>Guardians of the Galaxy Vol. 3</td>\n",
       "    </tr>\n",
       "    <tr>\n",
       "      <th>3</th>\n",
       "      <td>-1.0</td>\n",
       "      <td>0</td>\n",
       "      <td>Nightmare Alley</td>\n",
       "    </tr>\n",
       "    <tr>\n",
       "      <th>4</th>\n",
       "      <td>8.4</td>\n",
       "      <td>2019</td>\n",
       "      <td>Avengers: Endgame</td>\n",
       "    </tr>\n",
       "  </tbody>\n",
       "</table>\n",
       "</div>"
      ],
      "text/plain": [
       "   Ratings  Year                           Title\n",
       "0     -1.0     0                   Atlantic Wall\n",
       "1     -1.0  2021                       Bernstein\n",
       "2     -1.0  2021  Guardians of the Galaxy Vol. 3\n",
       "3     -1.0     0                 Nightmare Alley\n",
       "4      8.4  2019               Avengers: Endgame"
      ]
     },
     "execution_count": 9,
     "metadata": {},
     "output_type": "execute_result"
    }
   ],
   "source": [
    "bradley.makeDf().head()"
   ]
  },
  {
   "cell_type": "markdown",
   "metadata": {},
   "source": [
    "Notice that the DataFrame above is interpretted as: Bradley Cooper's four most recent works listed on IMDb have no ratings (i.e. equal -1), and two of them (Nightmare Alley and Atlantic Wall) have no year listed. "
   ]
  },
  {
   "cell_type": "markdown",
   "metadata": {},
   "source": [
    "Now, we see the default plotting works when confronted with an invalid string:"
   ]
  },
  {
   "cell_type": "code",
   "execution_count": 10,
   "metadata": {},
   "outputs": [
    {
     "name": "stdout",
     "output_type": "stream",
     "text": [
      "Valid name not chosen for parameter graphType; displaying default scatterplot.\n"
     ]
    },
    {
     "data": {
      "image/png": "[encoded data removed]",
      "text/plain": [
       "<Figure size 432x288 with 1 Axes>"
      ]
     },
     "metadata": {
      "needs_background": "light"
     },
     "output_type": "display_data"
    }
   ],
   "source": [
    "bradley.getGraph('fhwuiehfiuwfeh')"
   ]
  },
  {
   "cell_type": "markdown",
   "metadata": {},
   "source": [
    "So we can test out the other kinds of plots."
   ]
  },
  {
   "cell_type": "code",
   "execution_count": 11,
   "metadata": {},
   "outputs": [
    {
     "data": {
      "image/png": "[encoded data removed]",
      "text/plain": [
       "<Figure size 432x288 with 1 Axes>"
      ]
     },
     "metadata": {
      "needs_background": "light"
     },
     "output_type": "display_data"
    }
   ],
   "source": [
    "bradley.getGraph('b',True)"
   ]
  },
  {
   "cell_type": "code",
   "execution_count": 12,
   "metadata": {},
   "outputs": [
    {
     "data": {
      "image/png": "[encoded data removed]",
      "text/plain": [
       "<Figure size 432x288 with 1 Axes>"
      ]
     },
     "metadata": {
      "needs_background": "light"
     },
     "output_type": "display_data"
    }
   ],
   "source": [
    "bradley.getGraph('p')"
   ]
  },
  {
   "cell_type": "markdown",
   "metadata": {},
   "source": [
    "Below is my attempt at finding the outlier movie that stands out from the rest of the data for Bradley Cooper:"
   ]
  },
  {
   "cell_type": "code",
   "execution_count": 13,
   "metadata": {},
   "outputs": [
    {
     "name": "stdout",
     "output_type": "stream",
     "text": [
      "2.3\n",
      "Bending All the Rules\n"
     ]
    }
   ],
   "source": [
    "for index, i in enumerate(bradley.rating_list):\n",
    "    if i > 0 and i < 4:\n",
    "        print(i)\n",
    "        print(bradley.title_list[index])"
   ]
  },
  {
   "cell_type": "markdown",
   "metadata": {},
   "source": [
    "# Future ideas\n",
    "* Seperating based on movies, tv, or both\n",
    "* A front-end would be nice \n",
    "* Way down the line, you can compare actors; or being able to enter an actor name and the notebook would use search engine optimization to find the closest match"
   ]
  }
 ],
 "metadata": {
  "kernelspec": {
   "display_name": "Python 3",
   "language": "python",
   "name": "python3"
  },
  "language_info": {
   "codemirror_mode": {
    "name": "ipython",
    "version": 3
   },
   "file_extension": ".py",
   "mimetype": "text/x-python",
   "name": "python",
   "nbconvert_exporter": "python",
   "pygments_lexer": "ipython3",
   "version": "3.7.1"
  }
 },
 "nbformat": 4,
 "nbformat_minor": 2
}
